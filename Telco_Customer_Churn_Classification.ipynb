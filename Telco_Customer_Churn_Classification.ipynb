{
 "cells": [
  {
   "cell_type": "code",
   "execution_count": 109,
   "id": "31251992",
   "metadata": {},
   "outputs": [],
   "source": [
    "import pandas as pd\n",
    "from matplotlib import pyplot as plt\n",
    "from sklearn.metrics import mutual_info_score, classification_report\n",
    "from sklearn.model_selection import train_test_split"
   ]
  },
  {
   "cell_type": "code",
   "execution_count": 82,
   "id": "f0b119d7",
   "metadata": {},
   "outputs": [],
   "source": [
    "# Import all .csvs into a pandas data frame\n",
    "df_charges = pd.read_csv('./data/charges_data.csv')\n",
    "df_personal = pd.read_csv('./data/personal_data.csv')\n",
    "df_plan = pd.read_csv('./data/plan_data.csv')"
   ]
  },
  {
   "cell_type": "code",
   "execution_count": 83,
   "id": "ca9030b8",
   "metadata": {},
   "outputs": [
    {
     "data": {
      "text/plain": [
       "Index(['customerID', 'tenure', 'contract', 'paperlessBilling', 'paymentMethod',\n",
       "       'monthlyCharges', 'totalCharges', 'churn'],\n",
       "      dtype='object')"
      ]
     },
     "execution_count": 83,
     "metadata": {},
     "output_type": "execute_result"
    }
   ],
   "source": [
    "# Sanity checkpoint\n",
    "df_charges.columns"
   ]
  },
  {
   "cell_type": "code",
   "execution_count": 84,
   "id": "dd133f66",
   "metadata": {},
   "outputs": [
    {
     "data": {
      "text/plain": [
       "Index(['customerID', 'gender', 'partner', 'dependents', 'age'], dtype='object')"
      ]
     },
     "execution_count": 84,
     "metadata": {},
     "output_type": "execute_result"
    }
   ],
   "source": [
    "# Sanity checkpoint\n",
    "df_personal.columns"
   ]
  },
  {
   "cell_type": "code",
   "execution_count": 85,
   "id": "08b68e64",
   "metadata": {},
   "outputs": [
    {
     "data": {
      "text/plain": [
       "Index(['customerID', 'phoneService', 'multipleLines', 'internetService',\n",
       "       'onlineSecurity', 'onlineBackup', 'deviceProtection', 'techSupport',\n",
       "       'streamingTV', 'streamingMovies'],\n",
       "      dtype='object')"
      ]
     },
     "execution_count": 85,
     "metadata": {},
     "output_type": "execute_result"
    }
   ],
   "source": [
    "# Sanity checkpoint\n",
    "df_plan.columns"
   ]
  },
  {
   "cell_type": "code",
   "execution_count": 86,
   "id": "e9813985",
   "metadata": {},
   "outputs": [
    {
     "data": {
      "text/plain": [
       "Index(['customerID', 'gender', 'partner', 'dependents', 'age', 'tenure',\n",
       "       'contract', 'paperlessBilling', 'paymentMethod', 'monthlyCharges',\n",
       "       'totalCharges', 'churn', 'phoneService', 'multipleLines',\n",
       "       'internetService', 'onlineSecurity', 'onlineBackup', 'deviceProtection',\n",
       "       'techSupport', 'streamingTV', 'streamingMovies'],\n",
       "      dtype='object')"
      ]
     },
     "execution_count": 86,
     "metadata": {},
     "output_type": "execute_result"
    }
   ],
   "source": [
    "# Inner join the columns using 'customerID' as the primary key\n",
    "\n",
    "df_temp = df_personal.merge(df_charges, on='customerID')\n",
    "df_all = df_temp.merge(df_plan, on='customerID')\n",
    "\n",
    "# Sanity checkpoint\n",
    "df_all.columns"
   ]
  },
  {
   "cell_type": "markdown",
   "id": "65fb9579",
   "metadata": {},
   "source": [
    "# Exploratory Data Analysis and Data Cleaning"
   ]
  },
  {
   "cell_type": "code",
   "execution_count": 87,
   "id": "dab3fd8a",
   "metadata": {},
   "outputs": [
    {
     "name": "stdout",
     "output_type": "stream",
     "text": [
      "Column: customerID - Unique Values: ['5575-GNVDE' '7795-CFOCW' '9237-HQITU' ... '2569-WGERO' '2234-XADUH'\n",
      " '3186-AJIEK']\n",
      "Column: gender - Unique Values: ['Male' 'Female']\n",
      "Column: partner - Unique Values: ['No' 'Yes']\n",
      "Column: dependents - Unique Values: ['No' 'Yes']\n",
      "Column: age - Unique Values: [41 61 66 39 38 50 47 60 46 64 32 26 88 75 65 29 81 48 27 82 59 83 49 30\n",
      " 79 52 74 55 21 90 22 36 23 31 62 89 43 80 72 51 78 53 35 42 70 37 25 86\n",
      " 24 67 87 57 34 85 44 40 71 76 20 28 73 63 54 84 68 77 56 45 58 69 33]\n",
      "Column: tenure - Unique Values: [34 45  2 22 10 28 62 13 16 58 49 25 69 52 71 21  1 17  5 46 11 70 43  8\n",
      " 60 63 66 72  3 47 35 48 29 30 12 68 32 55 37 64 36 41 56  6  4 33 27 67\n",
      " 61 14 20 53 15 24 19 23 31 18 65 42 57 38 54  9  7 44 51 40 39 50 26 59]\n",
      "Column: contract - Unique Values: ['One year' 'Month-to-month' 'Two year']\n",
      "Column: paperlessBilling - Unique Values: ['No' 'Yes']\n",
      "Column: paymentMethod - Unique Values: ['Mailed check' 'Bank transfer (automatic)' 'Electronic check'\n",
      " 'Credit card (automatic)']\n",
      "Column: monthlyCharges - Unique Values: [56.95 42.3  70.7  ... 63.1  78.7  21.15]\n",
      "Column: totalCharges - Unique Values: [1889.5  1840.75  151.65 ... 1495.1  1419.4  6844.5 ]\n",
      "Column: churn - Unique Values: ['No' 'Yes']\n",
      "Column: phoneService - Unique Values: ['Yes' 'No']\n",
      "Column: multipleLines - Unique Values: ['No' 'No phone service' 'Yes']\n",
      "Column: internetService - Unique Values: ['DSL' 'Fiber optic' 'No']\n",
      "Column: onlineSecurity - Unique Values: ['Yes' 'No' 'No internet service']\n",
      "Column: onlineBackup - Unique Values: ['No' 'Yes' 'No internet service']\n",
      "Column: deviceProtection - Unique Values: ['Yes' 'No' 'No internet service']\n",
      "Column: techSupport - Unique Values: ['No' 'Yes' 'No internet service']\n",
      "Column: streamingTV - Unique Values: ['No' 'Yes' 'No internet service']\n",
      "Column: streamingMovies - Unique Values: ['No' 'Yes' 'No internet service']\n"
     ]
    }
   ],
   "source": [
    "# Check unique values of each column\n",
    "\n",
    "for column in df_all.columns:\n",
    "    print('Column: {} - Unique Values: {}'.format(column, df_all[column].unique()))"
   ]
  },
  {
   "cell_type": "code",
   "execution_count": 88,
   "id": "a6b31230",
   "metadata": {},
   "outputs": [
    {
     "name": "stdout",
     "output_type": "stream",
     "text": [
      "<class 'pandas.core.frame.DataFrame'>\n",
      "Int64Index: 3537 entries, 0 to 3536\n",
      "Data columns (total 21 columns):\n",
      " #   Column            Non-Null Count  Dtype  \n",
      "---  ------            --------------  -----  \n",
      " 0   customerID        3537 non-null   object \n",
      " 1   gender            3537 non-null   object \n",
      " 2   partner           3537 non-null   object \n",
      " 3   dependents        3537 non-null   object \n",
      " 4   age               3537 non-null   int64  \n",
      " 5   tenure            3537 non-null   int64  \n",
      " 6   contract          3537 non-null   object \n",
      " 7   paperlessBilling  3537 non-null   object \n",
      " 8   paymentMethod     3537 non-null   object \n",
      " 9   monthlyCharges    3303 non-null   float64\n",
      " 10  totalCharges      3303 non-null   float64\n",
      " 11  churn             3537 non-null   object \n",
      " 12  phoneService      3537 non-null   object \n",
      " 13  multipleLines     3537 non-null   object \n",
      " 14  internetService   3537 non-null   object \n",
      " 15  onlineSecurity    3537 non-null   object \n",
      " 16  onlineBackup      3537 non-null   object \n",
      " 17  deviceProtection  3537 non-null   object \n",
      " 18  techSupport       3537 non-null   object \n",
      " 19  streamingTV       3537 non-null   object \n",
      " 20  streamingMovies   3537 non-null   object \n",
      "dtypes: float64(2), int64(2), object(17)\n",
      "memory usage: 607.9+ KB\n"
     ]
    }
   ],
   "source": [
    "# Summary of the data frame\n",
    "\n",
    "df_all.info()"
   ]
  },
  {
   "cell_type": "code",
   "execution_count": 89,
   "id": "8fe850b2",
   "metadata": {},
   "outputs": [
    {
     "data": {
      "text/plain": [
       "customerID            0\n",
       "gender                0\n",
       "partner               0\n",
       "dependents            0\n",
       "age                   0\n",
       "tenure                0\n",
       "contract              0\n",
       "paperlessBilling      0\n",
       "paymentMethod         0\n",
       "monthlyCharges      234\n",
       "totalCharges        234\n",
       "churn                 0\n",
       "phoneService          0\n",
       "multipleLines         0\n",
       "internetService       0\n",
       "onlineSecurity        0\n",
       "onlineBackup          0\n",
       "deviceProtection      0\n",
       "techSupport           0\n",
       "streamingTV           0\n",
       "streamingMovies       0\n",
       "dtype: int64"
      ]
     },
     "execution_count": 89,
     "metadata": {},
     "output_type": "execute_result"
    }
   ],
   "source": [
    "df_all.isnull().sum()"
   ]
  },
  {
   "cell_type": "code",
   "execution_count": 90,
   "id": "76de7320",
   "metadata": {},
   "outputs": [
    {
     "name": "stdout",
     "output_type": "stream",
     "text": [
      "<class 'pandas.core.frame.DataFrame'>\n",
      "Int64Index: 3303 entries, 0 to 3536\n",
      "Data columns (total 21 columns):\n",
      " #   Column            Non-Null Count  Dtype  \n",
      "---  ------            --------------  -----  \n",
      " 0   customerID        3303 non-null   object \n",
      " 1   gender            3303 non-null   object \n",
      " 2   partner           3303 non-null   object \n",
      " 3   dependents        3303 non-null   object \n",
      " 4   age               3303 non-null   int64  \n",
      " 5   tenure            3303 non-null   int64  \n",
      " 6   contract          3303 non-null   object \n",
      " 7   paperlessBilling  3303 non-null   object \n",
      " 8   paymentMethod     3303 non-null   object \n",
      " 9   monthlyCharges    3303 non-null   float64\n",
      " 10  totalCharges      3303 non-null   float64\n",
      " 11  churn             3303 non-null   object \n",
      " 12  phoneService      3303 non-null   object \n",
      " 13  multipleLines     3303 non-null   object \n",
      " 14  internetService   3303 non-null   object \n",
      " 15  onlineSecurity    3303 non-null   object \n",
      " 16  onlineBackup      3303 non-null   object \n",
      " 17  deviceProtection  3303 non-null   object \n",
      " 18  techSupport       3303 non-null   object \n",
      " 19  streamingTV       3303 non-null   object \n",
      " 20  streamingMovies   3303 non-null   object \n",
      "dtypes: float64(2), int64(2), object(17)\n",
      "memory usage: 567.7+ KB\n"
     ]
    }
   ],
   "source": [
    "# Drop observations with null values\n",
    "\n",
    "df_all.dropna(inplace=True)\n",
    "\n",
    "# Summary of the data frame after dropping rows with NA value\n",
    "\n",
    "df_all.info()"
   ]
  },
  {
   "cell_type": "code",
   "execution_count": 91,
   "id": "3ebe5fa5",
   "metadata": {},
   "outputs": [
    {
     "data": {
      "text/plain": [
       "Index(['gender', 'partner', 'dependents', 'age', 'tenure', 'contract',\n",
       "       'paperlessBilling', 'paymentMethod', 'monthlyCharges', 'totalCharges',\n",
       "       'churn', 'phoneService', 'multipleLines', 'internetService',\n",
       "       'onlineSecurity', 'onlineBackup', 'deviceProtection', 'techSupport',\n",
       "       'streamingTV', 'streamingMovies'],\n",
       "      dtype='object')"
      ]
     },
     "execution_count": 91,
     "metadata": {},
     "output_type": "execute_result"
    }
   ],
   "source": [
    "# Drop the customerID column from the dataset since has no effect on the prediction\n",
    "\n",
    "df_all.drop(columns='customerID', inplace=True)\n",
    "\n",
    "# Sanity Checkpoint\n",
    "df_all.columns"
   ]
  },
  {
   "cell_type": "markdown",
   "id": "854a22a8",
   "metadata": {},
   "source": [
    "# Data Visualisation (add more here if got enough time)"
   ]
  },
  {
   "cell_type": "code",
   "execution_count": 92,
   "id": "78741aca",
   "metadata": {},
   "outputs": [
    {
     "data": {
      "image/png": "[encoded data removed]",
      "text/plain": [
       "<Figure size 720x432 with 1 Axes>"
      ]
     },
     "metadata": {
      "needs_background": "light"
     },
     "output_type": "display_data"
    }
   ],
   "source": [
    "# Create a figure\n",
    "fig = plt.figure(figsize=(10, 6)) \n",
    "ax = fig.add_subplot(111)\n",
    "\n",
    "# proportion of observation of each class\n",
    "prop_churn = df_all['churn'].value_counts(normalize=True)\n",
    "\n",
    "# create a bar plot showing the percentage of churn\n",
    "prop_churn.plot(kind='bar', \n",
    "                ax=ax,\n",
    "                color=['springgreen','salmon'])\n",
    "\n",
    "# set title and labels\n",
    "ax.set_title('Proportion of Observations of churn variable',\n",
    "             fontsize=18, loc='left')\n",
    "ax.set_xlabel('churn',\n",
    "              fontsize=14)\n",
    "ax.set_ylabel('Proportion of Observations',\n",
    "              fontsize=14)\n",
    "ax.tick_params(rotation='auto')\n",
    "\n",
    "# We can see that the dataset is imbalance."
   ]
  },
  {
   "cell_type": "markdown",
   "id": "a294f9df",
   "metadata": {},
   "source": [
    "# Feature Engineering"
   ]
  },
  {
   "cell_type": "code",
   "execution_count": 93,
   "id": "77962bc1",
   "metadata": {},
   "outputs": [
    {
     "name": "stdout",
     "output_type": "stream",
     "text": [
      "contract            1.022546e-01\n",
      "onlineSecurity      6.591703e-02\n",
      "techSupport         6.429724e-02\n",
      "internetService     5.399078e-02\n",
      "paymentMethod       4.981465e-02\n",
      "onlineBackup        4.762522e-02\n",
      "deviceProtection    4.473817e-02\n",
      "streamingMovies     3.241752e-02\n",
      "streamingTV         3.163978e-02\n",
      "paperlessBilling    2.481206e-02\n",
      "partner             1.207175e-02\n",
      "dependents          1.123352e-02\n",
      "multipleLines       2.485330e-03\n",
      "phoneService        1.882629e-04\n",
      "gender              7.186630e-09\n",
      "dtype: float64\n"
     ]
    }
   ],
   "source": [
    "# Function that computes the mutual infomation score between a categorical serie and the column churn\n",
    "def compute_mutual_information(categorical_serie):\n",
    "    return mutual_info_score(categorical_serie, df_all.churn)\n",
    "\n",
    "# select categorial variables excluding the response variable \n",
    "categorical_variables = df_all.select_dtypes(include=object).drop('churn', axis=1)\n",
    "\n",
    "# compute the mutual information score between each categorical variable and the target\n",
    "feature_importance = categorical_variables.apply(compute_mutual_information).sort_values(ascending=False)\n",
    "\n",
    "# visualize feature importance\n",
    "print(feature_importance)"
   ]
  },
  {
   "cell_type": "code",
   "execution_count": 94,
   "id": "2e21c596",
   "metadata": {},
   "outputs": [
    {
     "data": {
      "text/plain": [
       "Index(['partner', 'dependents', 'age', 'tenure', 'contract',\n",
       "       'paperlessBilling', 'paymentMethod', 'monthlyCharges', 'totalCharges',\n",
       "       'churn', 'internetService', 'onlineSecurity', 'onlineBackup',\n",
       "       'deviceProtection', 'techSupport', 'streamingTV', 'streamingMovies'],\n",
       "      dtype='object')"
      ]
     },
     "execution_count": 94,
     "metadata": {},
     "output_type": "execute_result"
    }
   ],
   "source": [
    "# From above, we see that 'multipleLines', 'phoneService', and 'gender' have very low mutual information score. \n",
    "# This means that these variables do not have a strong relationship with the churn. As a result, we can remove them \n",
    "# from the dataset.\n",
    "\n",
    "df_all = df_all.drop('multipleLines', axis=1)\n",
    "df_all = df_all.drop('phoneService', axis=1)\n",
    "df_all = df_all.drop('gender', axis=1)\n",
    "\n",
    "# Sanity Checkpoint\n",
    "df_all.columns"
   ]
  },
  {
   "cell_type": "code",
   "execution_count": 95,
   "id": "ad1fa3e6",
   "metadata": {},
   "outputs": [
    {
     "data": {
      "text/plain": [
       "<bound method NDFrame.head of       partner  dependents  age  tenure        contract  paperlessBilling  \\\n",
       "0           0           0   41      34        One year                 0   \n",
       "1           0           0   61      45        One year                 0   \n",
       "2           0           0   66       2  Month-to-month                 1   \n",
       "3           0           1   39      22  Month-to-month                 1   \n",
       "4           0           0   39      10  Month-to-month                 0   \n",
       "...       ...         ...  ...     ...             ...               ...   \n",
       "3531        1           0   25      55        One year                 0   \n",
       "3532        0           0   46       1  Month-to-month                 1   \n",
       "3533        0           0   24      19  Month-to-month                 1   \n",
       "3534        0           0   33      72        Two year                 1   \n",
       "3536        0           0   36      66        Two year                 1   \n",
       "\n",
       "                  paymentMethod  monthlyCharges  totalCharges  churn  \\\n",
       "0                  Mailed check           56.95       1889.50      0   \n",
       "1     Bank transfer (automatic)           42.30       1840.75      0   \n",
       "2              Electronic check           70.70        151.65      1   \n",
       "3       Credit card (automatic)           89.10       1949.40      0   \n",
       "4                  Mailed check           29.75        301.90      0   \n",
       "...                         ...             ...           ...    ...   \n",
       "3531    Credit card (automatic)           60.00       3316.10      0   \n",
       "3532           Electronic check           75.75         75.75      1   \n",
       "3533  Bank transfer (automatic)           78.70       1495.10      0   \n",
       "3534  Bank transfer (automatic)           21.15       1419.40      0   \n",
       "3536  Bank transfer (automatic)          105.65       6844.50      0   \n",
       "\n",
       "     internetService       onlineSecurity         onlineBackup  \\\n",
       "0                DSL                  Yes                   No   \n",
       "1                DSL                  Yes                   No   \n",
       "2        Fiber optic                   No                   No   \n",
       "3        Fiber optic                   No                  Yes   \n",
       "4                DSL                  Yes                   No   \n",
       "...              ...                  ...                  ...   \n",
       "3531             DSL                  Yes                  Yes   \n",
       "3532     Fiber optic                   No                   No   \n",
       "3533     Fiber optic                   No                   No   \n",
       "3534              No  No internet service  No internet service   \n",
       "3536     Fiber optic                  Yes                   No   \n",
       "\n",
       "         deviceProtection          techSupport          streamingTV  \\\n",
       "0                     Yes                   No                   No   \n",
       "1                     Yes                  Yes                   No   \n",
       "2                      No                   No                   No   \n",
       "3                      No                   No                  Yes   \n",
       "4                      No                   No                   No   \n",
       "...                   ...                  ...                  ...   \n",
       "3531                   No                   No                   No   \n",
       "3532                   No                   No                   No   \n",
       "3533                   No                   No                  Yes   \n",
       "3534  No internet service  No internet service  No internet service   \n",
       "3536                  Yes                  Yes                  Yes   \n",
       "\n",
       "          streamingMovies  \n",
       "0                      No  \n",
       "1                      No  \n",
       "2                      No  \n",
       "3                      No  \n",
       "4                      No  \n",
       "...                   ...  \n",
       "3531                   No  \n",
       "3532                   No  \n",
       "3533                   No  \n",
       "3534  No internet service  \n",
       "3536                  Yes  \n",
       "\n",
       "[3303 rows x 17 columns]>"
      ]
     },
     "execution_count": 95,
     "metadata": {},
     "output_type": "execute_result"
    }
   ],
   "source": [
    "# Do label encoding for binary value columns\n",
    "\n",
    "df_all_transformed = df_all.copy()\n",
    "\n",
    "binary_label_encoding_columns = ['partner', 'dependents', 'paperlessBilling', 'churn']\n",
    "# recall that 'phoneService' and 'gender' are removed\n",
    "\n",
    "# Encode categorical binary column features using label encoding\n",
    "for column in binary_label_encoding_columns: \n",
    "    df_all_transformed[column] = df_all_transformed[column].map({'Yes': 1, 'No': 0})\n",
    "        \n",
    "# Sanity Checkpoint\n",
    "df_all_transformed.head"
   ]
  },
  {
   "cell_type": "code",
   "execution_count": 96,
   "id": "f9b17217",
   "metadata": {},
   "outputs": [
    {
     "data": {
      "text/plain": [
       "<bound method NDFrame.head of       partner  dependents  age  tenure  paperlessBilling  monthlyCharges  \\\n",
       "0           0           0   41      34                 0           56.95   \n",
       "1           0           0   61      45                 0           42.30   \n",
       "2           0           0   66       2                 1           70.70   \n",
       "3           0           1   39      22                 1           89.10   \n",
       "4           0           0   39      10                 0           29.75   \n",
       "...       ...         ...  ...     ...               ...             ...   \n",
       "3531        1           0   25      55                 0           60.00   \n",
       "3532        0           0   46       1                 1           75.75   \n",
       "3533        0           0   24      19                 1           78.70   \n",
       "3534        0           0   33      72                 1           21.15   \n",
       "3536        0           0   36      66                 1          105.65   \n",
       "\n",
       "      totalCharges  churn  contract_Month-to-month  contract_One year  ...  \\\n",
       "0          1889.50      0                        0                  1  ...   \n",
       "1          1840.75      0                        0                  1  ...   \n",
       "2           151.65      1                        1                  0  ...   \n",
       "3          1949.40      0                        1                  0  ...   \n",
       "4           301.90      0                        1                  0  ...   \n",
       "...            ...    ...                      ...                ...  ...   \n",
       "3531       3316.10      0                        0                  1  ...   \n",
       "3532         75.75      1                        1                  0  ...   \n",
       "3533       1495.10      0                        1                  0  ...   \n",
       "3534       1419.40      0                        0                  0  ...   \n",
       "3536       6844.50      0                        0                  0  ...   \n",
       "\n",
       "      deviceProtection_Yes  techSupport_No  techSupport_No internet service  \\\n",
       "0                        1               1                                0   \n",
       "1                        1               0                                0   \n",
       "2                        0               1                                0   \n",
       "3                        0               1                                0   \n",
       "4                        0               1                                0   \n",
       "...                    ...             ...                              ...   \n",
       "3531                     0               1                                0   \n",
       "3532                     0               1                                0   \n",
       "3533                     0               1                                0   \n",
       "3534                     0               0                                1   \n",
       "3536                     1               0                                0   \n",
       "\n",
       "      techSupport_Yes  streamingTV_No  streamingTV_No internet service  \\\n",
       "0                   0               1                                0   \n",
       "1                   1               1                                0   \n",
       "2                   0               1                                0   \n",
       "3                   0               0                                0   \n",
       "4                   0               1                                0   \n",
       "...               ...             ...                              ...   \n",
       "3531                0               1                                0   \n",
       "3532                0               1                                0   \n",
       "3533                0               0                                0   \n",
       "3534                0               0                                1   \n",
       "3536                1               0                                0   \n",
       "\n",
       "      streamingTV_Yes  streamingMovies_No  \\\n",
       "0                   0                   1   \n",
       "1                   0                   1   \n",
       "2                   0                   1   \n",
       "3                   1                   1   \n",
       "4                   0                   1   \n",
       "...               ...                 ...   \n",
       "3531                0                   1   \n",
       "3532                0                   1   \n",
       "3533                1                   1   \n",
       "3534                0                   0   \n",
       "3536                1                   0   \n",
       "\n",
       "      streamingMovies_No internet service  streamingMovies_Yes  \n",
       "0                                       0                    0  \n",
       "1                                       0                    0  \n",
       "2                                       0                    0  \n",
       "3                                       0                    0  \n",
       "4                                       0                    0  \n",
       "...                                   ...                  ...  \n",
       "3531                                    0                    0  \n",
       "3532                                    0                    0  \n",
       "3533                                    0                    0  \n",
       "3534                                    1                    0  \n",
       "3536                                    0                    1  \n",
       "\n",
       "[3303 rows x 36 columns]>"
      ]
     },
     "execution_count": 96,
     "metadata": {},
     "output_type": "execute_result"
    }
   ],
   "source": [
    "# Do one-hot encoding for binary value columns\n",
    "\n",
    "one_hot_encoding_columns = ['contract', 'paymentMethod', 'internetService', 'onlineSecurity', \n",
    "                            'onlineBackup', 'deviceProtection', 'techSupport', 'streamingTV',  \n",
    "                            'streamingMovies']\n",
    "\n",
    "# Encode the rest of the categorical variables using one-hot encoding\n",
    "df_all_transformed = pd.get_dummies(df_all_transformed, columns = one_hot_encoding_columns)\n",
    "\n",
    "# Sanity Checkpoint\n",
    "df_all_transformed.head"
   ]
  },
  {
   "cell_type": "code",
   "execution_count": 97,
   "id": "ea97756e",
   "metadata": {},
   "outputs": [
    {
     "data": {
      "text/plain": [
       "<bound method NDFrame.head of       partner  dependents       age    tenure  paperlessBilling  \\\n",
       "0           0           0  0.300000  0.464789                 0   \n",
       "1           0           0  0.585714  0.619718                 0   \n",
       "2           0           0  0.657143  0.014085                 1   \n",
       "3           0           1  0.271429  0.295775                 1   \n",
       "4           0           0  0.271429  0.126761                 0   \n",
       "...       ...         ...       ...       ...               ...   \n",
       "3531        1           0  0.071429  0.760563                 0   \n",
       "3532        0           0  0.371429  0.000000                 1   \n",
       "3533        0           0  0.057143  0.253521                 1   \n",
       "3534        0           0  0.185714  1.000000                 1   \n",
       "3536        0           0  0.228571  0.915493                 1   \n",
       "\n",
       "      monthlyCharges  totalCharges  churn  contract_Month-to-month  \\\n",
       "0           0.385075      0.216175      0                        0   \n",
       "1           0.239303      0.210541      0                        0   \n",
       "2           0.521891      0.015352      1                        1   \n",
       "3           0.704975      0.223097      0                        1   \n",
       "4           0.114428      0.032715      0                        1   \n",
       "...              ...           ...    ...                      ...   \n",
       "3531        0.415423      0.381030      0                        0   \n",
       "3532        0.572139      0.006581      1                        1   \n",
       "3533        0.601493      0.170599      0                        1   \n",
       "3534        0.028856      0.161851      0                        0   \n",
       "3536        0.869652      0.788765      0                        0   \n",
       "\n",
       "      contract_One year  ...  deviceProtection_Yes  techSupport_No  \\\n",
       "0                     1  ...                     1               1   \n",
       "1                     1  ...                     1               0   \n",
       "2                     0  ...                     0               1   \n",
       "3                     0  ...                     0               1   \n",
       "4                     0  ...                     0               1   \n",
       "...                 ...  ...                   ...             ...   \n",
       "3531                  1  ...                     0               1   \n",
       "3532                  0  ...                     0               1   \n",
       "3533                  0  ...                     0               1   \n",
       "3534                  0  ...                     0               0   \n",
       "3536                  0  ...                     1               0   \n",
       "\n",
       "      techSupport_No internet service  techSupport_Yes  streamingTV_No  \\\n",
       "0                                   0                0               1   \n",
       "1                                   0                1               1   \n",
       "2                                   0                0               1   \n",
       "3                                   0                0               0   \n",
       "4                                   0                0               1   \n",
       "...                               ...              ...             ...   \n",
       "3531                                0                0               1   \n",
       "3532                                0                0               1   \n",
       "3533                                0                0               0   \n",
       "3534                                1                0               0   \n",
       "3536                                0                1               0   \n",
       "\n",
       "      streamingTV_No internet service  streamingTV_Yes  streamingMovies_No  \\\n",
       "0                                   0                0                   1   \n",
       "1                                   0                0                   1   \n",
       "2                                   0                0                   1   \n",
       "3                                   0                1                   1   \n",
       "4                                   0                0                   1   \n",
       "...                               ...              ...                 ...   \n",
       "3531                                0                0                   1   \n",
       "3532                                0                0                   1   \n",
       "3533                                0                1                   1   \n",
       "3534                                1                0                   0   \n",
       "3536                                0                1                   0   \n",
       "\n",
       "      streamingMovies_No internet service  streamingMovies_Yes  \n",
       "0                                       0                    0  \n",
       "1                                       0                    0  \n",
       "2                                       0                    0  \n",
       "3                                       0                    0  \n",
       "4                                       0                    0  \n",
       "...                                   ...                  ...  \n",
       "3531                                    0                    0  \n",
       "3532                                    0                    0  \n",
       "3533                                    0                    0  \n",
       "3534                                    1                    0  \n",
       "3536                                    0                    1  \n",
       "\n",
       "[3303 rows x 36 columns]>"
      ]
     },
     "execution_count": 97,
     "metadata": {},
     "output_type": "execute_result"
    }
   ],
   "source": [
    "# Data normalization for numeric variables\n",
    "numeric_columns = ['age', 'tenure', 'monthlyCharges', 'totalCharges']\n",
    "\n",
    "# Use min-max scaler\n",
    "for column in numeric_columns:\n",
    "        min_column = df_all_transformed[column].min()\n",
    "        max_column = df_all_transformed[column].max()\n",
    "        df_all_transformed[column] = (df_all_transformed[column] - min_column) / (max_column - min_column)   \n",
    "\n",
    "# Sanity Checkpoint\n",
    "df_all_transformed.head"
   ]
  },
  {
   "cell_type": "markdown",
   "id": "126fd529",
   "metadata": {},
   "source": [
    "# Model Learning"
   ]
  },
  {
   "cell_type": "code",
   "execution_count": 98,
   "id": "4fe01565",
   "metadata": {},
   "outputs": [
    {
     "name": "stdout",
     "output_type": "stream",
     "text": [
      "Index(['partner', 'dependents', 'age', 'tenure', 'paperlessBilling',\n",
      "       'monthlyCharges', 'totalCharges', 'contract_Month-to-month',\n",
      "       'contract_One year', 'contract_Two year',\n",
      "       'paymentMethod_Bank transfer (automatic)',\n",
      "       'paymentMethod_Credit card (automatic)',\n",
      "       'paymentMethod_Electronic check', 'paymentMethod_Mailed check',\n",
      "       'internetService_DSL', 'internetService_Fiber optic',\n",
      "       'internetService_No', 'onlineSecurity_No',\n",
      "       'onlineSecurity_No internet service', 'onlineSecurity_Yes',\n",
      "       'onlineBackup_No', 'onlineBackup_No internet service',\n",
      "       'onlineBackup_Yes', 'deviceProtection_No',\n",
      "       'deviceProtection_No internet service', 'deviceProtection_Yes',\n",
      "       'techSupport_No', 'techSupport_No internet service', 'techSupport_Yes',\n",
      "       'streamingTV_No', 'streamingTV_No internet service', 'streamingTV_Yes',\n",
      "       'streamingMovies_No', 'streamingMovies_No internet service',\n",
      "       'streamingMovies_Yes'],\n",
      "      dtype='object')\n",
      "churn\n"
     ]
    }
   ],
   "source": [
    "# Features\n",
    "x = df_all_transformed.drop(columns='churn')\n",
    "\n",
    "# Labels\n",
    "y = df_all_transformed.loc[:, 'churn']\n",
    "\n",
    "# Sanity Checkpoint\n",
    "print(x.columns)\n",
    "\n",
    "# Sanity Checkpoint\n",
    "print(y.name)"
   ]
  },
  {
   "cell_type": "code",
   "execution_count": 102,
   "id": "10dcf1bc",
   "metadata": {},
   "outputs": [],
   "source": [
    "# Split the data in training and testing sets\n",
    "x_train, x_test, y_train, y_test = train_test_split(x, y, test_size=0.2, random_state=69)"
   ]
  },
  {
   "cell_type": "code",
   "execution_count": 113,
   "id": "6987d497",
   "metadata": {},
   "outputs": [
    {
     "name": "stdout",
     "output_type": "stream",
     "text": [
      "Accuracy:  0.8048411497730711\n",
      "\n",
      "\n",
      "              precision    recall  f1-score   support\n",
      "\n",
      "           0       0.84      0.91      0.87       489\n",
      "           1       0.66      0.52      0.58       172\n",
      "\n",
      "    accuracy                           0.80       661\n",
      "   macro avg       0.75      0.71      0.73       661\n",
      "weighted avg       0.79      0.80      0.80       661\n",
      "\n"
     ]
    }
   ],
   "source": [
    "# Create and train Logistic Regression model\n",
    "from sklearn.linear_model import LogisticRegression\n",
    "\n",
    "model_LR = LogisticRegression()\n",
    "model_LR.fit(x_train, y_train)\n",
    "\n",
    "accuracy = model_LR.score(x_test, y_test)\n",
    "print('Accuracy: ', accuracy)\n",
    "\n",
    "# Model evaluation\n",
    "print('\\n')\n",
    "print(classification_report(y_test, model_LR.predict(x_test)))"
   ]
  },
  {
   "cell_type": "code",
   "execution_count": 114,
   "id": "3fa59039",
   "metadata": {},
   "outputs": [
    {
     "name": "stdout",
     "output_type": "stream",
     "text": [
      "Accuracy:  0.8033282904689864\n",
      "\n",
      "\n",
      "              precision    recall  f1-score   support\n",
      "\n",
      "           0       0.84      0.91      0.87       489\n",
      "           1       0.66      0.51      0.57       172\n",
      "\n",
      "    accuracy                           0.80       661\n",
      "   macro avg       0.75      0.71      0.72       661\n",
      "weighted avg       0.79      0.80      0.79       661\n",
      "\n"
     ]
    }
   ],
   "source": [
    "# Create and train Random Forest Classifier model\n",
    "from sklearn.ensemble import RandomForestClassifier\n",
    "\n",
    "model_RFC = RandomForestClassifier()\n",
    "model_RFC.fit(x_train, y_train)\n",
    "\n",
    "accuracy = model_RFC.score(x_test, y_test)\n",
    "print('Accuracy: ', accuracy)\n",
    "\n",
    "# Model evaluation\n",
    "print('\\n')\n",
    "print(classification_report(y_test, model_RFC.predict(x_test)))"
   ]
  },
  {
   "cell_type": "code",
   "execution_count": 116,
   "id": "bee2f5da",
   "metadata": {},
   "outputs": [
    {
     "name": "stdout",
     "output_type": "stream",
     "text": [
      "[12:31:17] WARNING: C:/Users/Administrator/workspace/xgboost-win64_release_1.4.0/src/learner.cc:1095: Starting in XGBoost 1.3.0, the default evaluation metric used with the objective 'binary:logistic' was changed from 'error' to 'logloss'. Explicitly set eval_metric if you'd like to restore the old behavior.\n",
      "Accuracy:  0.7972768532526475\n",
      "\n",
      "\n",
      "              precision    recall  f1-score   support\n",
      "\n",
      "           0       0.84      0.90      0.87       489\n",
      "           1       0.64      0.51      0.56       172\n",
      "\n",
      "    accuracy                           0.80       661\n",
      "   macro avg       0.74      0.70      0.72       661\n",
      "weighted avg       0.79      0.80      0.79       661\n",
      "\n"
     ]
    },
    {
     "name": "stderr",
     "output_type": "stream",
     "text": [
      "C:\\Users\\gordo\\anaconda3\\lib\\site-packages\\xgboost\\sklearn.py:1146: UserWarning: The use of label encoder in XGBClassifier is deprecated and will be removed in a future release. To remove this warning, do the following: 1) Pass option use_label_encoder=False when constructing XGBClassifier object; and 2) Encode your labels (y) as integers starting with 0, i.e. 0, 1, 2, ..., [num_class - 1].\n",
      "  warnings.warn(label_encoder_deprecation_msg, UserWarning)\n"
     ]
    }
   ],
   "source": [
    "# Create and train XGBClassifier\n",
    "from xgboost import XGBClassifier\n",
    "\n",
    "model_XGB = XGBClassifier(objective = 'binary:logistic', max_depth = 4, alpha = 10, learning_rate = 1.0, n_estimators = 100)\n",
    "model_XGB.fit(x_train, y_train)\n",
    "\n",
    "accuracy = model_XGB.score(x_test, y_test)\n",
    "print('Accuracy: ', accuracy)\n",
    "\n",
    "# Model evaluation\n",
    "print('\\n')\n",
    "print(classification_report(y_test, model_XGB.predict(x_test)))"
   ]
  },
  {
   "cell_type": "markdown",
   "id": "7d7662f7",
   "metadata": {},
   "source": [
    "# Extra Notes"
   ]
  },
  {
   "cell_type": "code",
   "execution_count": null,
   "id": "d5f75c3f",
   "metadata": {},
   "outputs": [],
   "source": [
    "# Can use grid search for hyperparameters tuning (but skip for now ...)\n",
    "\n",
    "# Can also try to use the .fillna function using median/mean/mode of column to the dataframe instead of .dropna. \n",
    "# This may help to retain more data."
   ]
  }
 ],
 "metadata": {
  "kernelspec": {
   "display_name": "Python 3",
   "language": "python",
   "name": "python3"
  },
  "language_info": {
   "codemirror_mode": {
    "name": "ipython",
    "version": 3
   },
   "file_extension": ".py",
   "mimetype": "text/x-python",
   "name": "python",
   "nbconvert_exporter": "python",
   "pygments_lexer": "ipython3",
   "version": "3.7.9"
  }
 },
 "nbformat": 4,
 "nbformat_minor": 5
}
